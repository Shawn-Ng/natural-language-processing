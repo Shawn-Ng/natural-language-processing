{
 "cells": [
  {
   "cell_type": "markdown",
   "metadata": {},
   "source": [
    "https://www.kaggle.com/siddhadev/atis-dataset"
   ]
  },
  {
   "cell_type": "code",
   "execution_count": 1,
   "metadata": {
    "_cell_guid": "b1076dfc-b9ad-4769-8c92-a6c4dae69d19",
    "_uuid": "8f2839f25d086af736a60e9eeb907d3b93b6e0e5"
   },
   "outputs": [
    {
     "name": "stdout",
     "output_type": "stream",
     "text": [
      "['atis.test.pkl', 'atis.test.intent.csv', 'atis.dict.slots.csv', 'atis.train.query.csv', 'atis.dict.vocab.csv', 'atis.train.intent.csv', 'atis.train.slots.csv', 'atis.train.pkl', 'atis.dict.intent.csv', 'atis.test.slots.csv', 'atis.test.query.csv']\n"
     ]
    }
   ],
   "source": [
    "# This Python 3 environment comes with many helpful analytics libraries installed\n",
    "# It is defined by the kaggle/python docker image: https://github.com/kaggle/docker-python\n",
    "# For example, here's several helpful packages to load in \n",
    "\n",
    "import numpy as np # linear algebra\n",
    "import pandas as pd # data processing, CSV file I/O (e.g. pd.read_csv)\n",
    "\n",
    "# Input data files are available in the \"../input/\" directory.\n",
    "# For example, running this (by clicking run or pressing Shift+Enter) will list the files in the input directory\n",
    "\n",
    "import os\n",
    "print(os.listdir(\"data/atis-dataset\"))\n",
    "\n",
    "# Any results you write to the current directory are saved as output."
   ]
  },
  {
   "cell_type": "code",
   "execution_count": 2,
   "metadata": {
    "_cell_guid": "79c7e3d0-c299-4dcb-8224-4455121ee9b0",
    "_uuid": "d629ff2d2480ee46fbb7e2d37f6b5fab8052498a"
   },
   "outputs": [],
   "source": [
    "import pickle\n",
    "\n",
    "DATA_DIR=\"data/atis-dataset\"\n",
    "\n",
    "def load_ds(fname='atis.train.pkl'):\n",
    "    with open(fname, 'rb') as stream:\n",
    "        ds, dicts = pickle.load(stream)\n",
    "    print('Done  loading: ', fname)\n",
    "    print('      samples: {:4d}'.format(len(ds['query'])))\n",
    "    print('   vocab_size: {:4d}'.format(len(dicts['token_ids'])))\n",
    "    print('   slot count: {:4d}'.format(len(dicts['slot_ids'])))\n",
    "    print(' intent count: {:4d}'.format(len(dicts['intent_ids'])))\n",
    "    return ds, dicts"
   ]
  },
  {
   "cell_type": "markdown",
   "metadata": {
    "_uuid": "76d15c0334726765bc4a3cffbe2e1e682af333d0"
   },
   "source": [
    "# Load ATIS Dataset"
   ]
  },
  {
   "cell_type": "code",
   "execution_count": 3,
   "metadata": {
    "_uuid": "5a78b50f452f13a326b3ebcc485c93de83d6819f",
    "scrolled": false
   },
   "outputs": [
    {
     "name": "stdout",
     "output_type": "stream",
     "text": [
      "Done  loading:  data/atis-dataset/atis.train.pkl\n",
      "      samples: 4978\n",
      "   vocab_size:  943\n",
      "   slot count:  129\n",
      " intent count:   26\n"
     ]
    }
   ],
   "source": [
    "train_ds, dict1 = load_ds(os.path.join(DATA_DIR, 'atis.train.pkl'))"
   ]
  },
  {
   "cell_type": "code",
   "execution_count": 4,
   "metadata": {
    "scrolled": true
   },
   "outputs": [
    {
     "data": {
      "text/plain": [
       "dict_keys(['slot_labels', 'query', 'intent_labels'])"
      ]
     },
     "execution_count": 4,
     "metadata": {},
     "output_type": "execute_result"
    }
   ],
   "source": [
    "train_ds.keys()"
   ]
  },
  {
   "cell_type": "code",
   "execution_count": 5,
   "metadata": {},
   "outputs": [],
   "source": [
    "def print_dict_first_sample(dictionary):\n",
    "    \"\"\"\n",
    "    Parameters\n",
    "    ----------\n",
    "    dictionary: dict\n",
    "    \n",
    "    Returns\n",
    "    -------\n",
    "    Print all 1st value of all the keys in this dictionary\n",
    "    \"\"\"\n",
    "    if not isinstance(dictionary, (dict)):\n",
    "        raise TypeError('dictionary is not datatype dict')\n",
    "    \n",
    "    for key in dictionary.keys():\n",
    "        if isinstance(dictionary[key], (list)):\n",
    "            print(key+'[0]:\\n', dictionary[key][0])\n",
    "        elif isinstance(dictionary[key], (dict)):\n",
    "            print(key+'.keys():\\n', dictionary[key].keys())\n",
    "        else:\n",
    "            print(key+':\\n', dictionary[key])"
   ]
  },
  {
   "cell_type": "code",
   "execution_count": 6,
   "metadata": {},
   "outputs": [
    {
     "name": "stdout",
     "output_type": "stream",
     "text": [
      "slot_labels[0]:\n",
      " [128 128 128 128 128 128  48 128  35 100 128 128 128  78 128  14 128 128\n",
      "  12 128]\n",
      "query[0]:\n",
      " [178 479 902 851 431 444 266 240 168 210 215 236 482 351 240  27 482 827\n",
      " 606 179]\n",
      "intent_labels[0]:\n",
      " [14]\n"
     ]
    }
   ],
   "source": [
    "print_dict_first_sample(train_ds)"
   ]
  },
  {
   "cell_type": "code",
   "execution_count": 7,
   "metadata": {},
   "outputs": [
    {
     "data": {
      "text/plain": [
       "dict_keys(['token_ids', 'slot_ids', 'intent_ids'])"
      ]
     },
     "execution_count": 7,
     "metadata": {},
     "output_type": "execute_result"
    }
   ],
   "source": [
    "dict1.keys()"
   ]
  },
  {
   "cell_type": "code",
   "execution_count": 8,
   "metadata": {},
   "outputs": [
    {
     "name": "stdout",
     "output_type": "stream",
     "text": [
      "token_ids.keys():\n",
      " dict_keys([\"'d\", \"'hare\", \"'ll\", \"'m\", \"'re\", \"'s\", \"'t\", \"'ve\", '0900', '1', '10', '100', '1000', '1017', '1020', '1024', '1026', '1030', '1039', '1045', '1055', '1059', '106', '1083', '11', '110', '1100', '1110', '1115', '1130', '1133', '1145', '1158', '12', '1200', '1201', '1205', '1207', '1209', '1220', '1222', '1230', '124', '1245', '1288', '1291', '130', '1300', '137338', '139', '150', '1500', '1505', '1600', '163', '1700', '1765', '1800', '1850', '19', '1940', '1991', '1992', '1993', '1994', '2', '20', '200', '201', '21', '210', '2100', '212', '2134', '2153', '217', '225', '229', '230', '257', '269', '270', '271', '279', '281', '296', '297', '3', '300', '305', '311', '315', '320', '323', '324', '329', '3357', '343', '345', '352', '3724', '382', '4', '400', '402', '405', '415', '416', '417', '419', '420', '428', '43', '430', '4400', '445', '459', '466', '468', '486', '497766', '5', '500', '505', '515', '530', '539', '55', '555', '57', '6', '608', '615', '630', '639', '645', '650', '665', '673', '7', '705', '71', '718', '720', '723', '727', '72s', '730', '733', '734', '737', '73s', '746', '747', '755', '757', '767', '771', '8', '80', '810', '811', '813', '815', '819', '82', '823', '825', '838', '842', '845', '852', '9', '928', '932', '934', '950', '98', 'BOS', 'EOS', 'a', 'aa', 'abbreviation', 'abbreviations', 'able', 'about', 'ac', 'across', 'actually', 'advertises', 'after', 'afternoon', 'afternoons', 'afterwards', 'again', 'air', 'aircraft', 'airfare', 'airfares', 'airline', 'airlines', 'airplane', 'airplanes', 'airport', 'airports', 'al', 'alaska', 'all', 'along', 'also', 'am', 'america', 'american', 'amount', 'an', 'and', 'angeles', 'another', 'any', 'anything', 'anywhere', 'ap', 'ap57', 'ap58', 'ap68', 'ap80', 'approximately', 'april', 'are', 'area', 'arizona', 'around', 'arrange', 'arrangements', 'arrival', 'arrivals', 'arrive', 'arrives', 'arriving', 'as', 'at', 'atl', 'atlanta', 'august', 'available', 'b', 'back', 'baltimore', 'basis', 'bay', 'be', 'be1', 'beach', 'before', 'beginning', 'begins', 'being', 'belong', 'besides', 'between', 'bh', 'bn', 'bna', 'boeing', 'book', 'booking', 'boston', 'both', 'bound', 'breakfast', 'bring', 'bur', 'burbank', 'business', 'but', 'buy', 'bwi', 'by', 'c', 'california', 'called', 'calling', 'can', 'canada', 'canadian', 'capacities', 'capacity', 'car', 'carolina', 'carried', 'carries', 'cars', 'catch', 'charges', 'charlotte', 'cheap', 'cheapest', 'chicago', 'choices', 'cincinnati', 'cities', 'city', 'class', 'classes', 'cleveland', 'close', 'closest', 'co', 'coach', 'code', 'codes', 'colorado', 'columbus', 'combination', 'come', 'comes', 'coming', 'companies', 'concerning', 'connect', 'connecting', 'connection', 'connections', 'connects', 'continent', 'continental', 'continuing', 'cost', 'costs', 'could', 'county', 'cover', 'cp', 'currently', 'cvg', 'd', 'd10', 'd9s', 'daily', 'dallas', 'database', 'date', 'day', 'days', 'dc', 'dc10', 'dc9', 'dca', 'december', 'define', 'delta', 'denver', 'depart', 'departing', 'departs', 'departure', 'departures', 'describe', 'designate', 'destination', 'determine', 'detroit', 'dfw', 'dh8', 'diego', 'difference', 'different', 'dinner', 'dinnertime', 'direct', 'directly', 'discount', 'display', 'distance', 'dl', 'do', 'does', 'doesn', 'dollars', 'don', 'downtown', 'dtw', 'dulles', 'during', 'ea', 'each', 'earlier', 'earliest', 'early', 'eastern', 'economic', 'economy', 'eight', 'eighteenth', 'eighth', 'either', 'eleven', 'eleventh', 'else', 'enroute', 'equal', 'equipment', 'evening', 'ever', 'everywhere', 'ewr', 'exceeding', 'expensive', 'explain', 'express', 'eye', 'f', 'f28', 'far', 'fare', 'fares', 'february', 'ff', 'field', 'fifteen', 'fifteenth', 'fifth', 'final', 'find', 'fine', 'first', 'fit', 'flies', 'flight', 'flights', 'florida', 'fly', 'flying', 'fn', 'following', 'for', 'fort', 'four', 'fourteenth', 'fourth', 'francisco', 'friday', 'fridays', 'friends', 'from', 'general', 'georgia', 'get', 'gets', 'give', 'go', 'goes', 'going', 'good', 'got', 'great', 'greatest', 'ground', 'grounds', 'guardia', 'h', 'hartfield', 'has', 'have', 'having', 'heading', 'hello', 'help', 'here', 'hi', 'highest', 'hold', 'home', 'hopefully', 'hou', 'hours', 'houston', 'how', 'hp', 'i', 'iah', 'if', 'in', 'include', 'included', 'includes', 'including', 'india', 'indiana', 'indianapolis', 'inexpensive', 'inform', 'information', 'instead', 'intercontinental', 'interested', 'international', 'into', 'is', 'it', 'itinerary', 'j31', 'january', 'jersey', 'jet', 'jfk', 'jose', 'july', 'june', 'just', 'k', 'kansas', 'kennedy', 'kind', 'kindly', 'kinds', 'know', 'kw', 'l10', 'l1011', 'la', 'lake', 'land', 'landing', 'landings', 'lands', 'largest', 'las', 'last', 'lastest', 'late', 'later', 'latest', 'lax', 'laying', 'layover', 'least', 'leave', 'leaves', 'leaving', 'less', 'lester', 'let', 'level', 'lga', 'like', 'limo', 'limousine', 'limousines', 'list', 'listed', 'listing', 'listings', 'live', 'lives', 'local', 'locate', 'located', 'logan', 'long', 'longest', 'look', 'looking', 'los', 'louis', 'love', 'lowest', 'ls', 'lufthansa', 'lunch', 'm', 'm80', 'make', 'makes', 'making', 'many', 'march', 'maximum', 'may', 'mci', 'mco', 'me', 'meal', 'meals', 'mealtime', 'mean', 'meaning', 'memphis', 'mia', 'miami', 'michigan', 'midnight', 'midway', 'midwest', 'miles', 'milwaukee', 'minimum', 'minneapolis', 'minnesota', 'missouri', 'mitchell', 'monday', 'mondays', 'month', 'montreal', 'more', 'morning', 'mornings', 'most', 'much', 'must', 'my', 'name', 'names', 'nashville', 'nationair', 'near', 'need', 'nevada', 'new', 'newark', 'next', 'night', 'nights', 'nighttime', 'nineteenth', 'ninth', 'no', 'non', 'nonstop', 'nonstops', 'noon', 'noontime', 'north', 'northwest', 'not', 'november', 'now', 'number', 'numbers', 'nw', 'o', \"o'clock\", 'oak', 'oakland', 'october', 'of', 'off', 'offer', 'offered', 'offers', 'oh', 'ohio', 'okay', 'on', 'once', 'one', 'only', 'ontario', 'operating', 'operation', 'options', 'or', 'ord', 'order', 'originate', 'originating', 'orlando', 'other', 'out', 'over', 'overnight', 'passengers', 'paul', 'pearson', 'pennsylvania', 'people', 'petersburg', 'philadelphia', 'philly', 'phl', 'phoenix', 'pittsburgh', 'place', 'plan', 'plane', 'planes', 'planning', 'please', 'pm', 'possible', 'prefer', 'preferably', 'price', 'priced', 'prices', 'prior', 'proper', 'provide', 'provided', 'provides', 'put', 'q', 'qo', 'qualify', 'quebec', 'question', 'qw', 'qx', 'rate', 'rates', 'reaches', 'reaching', 'red', 'regarding', 'rent', 'rental', 'rentals', 'repeat', 'repeating', 'represented', 'requesting', 'reservation', 'reservations', 'restriction', 'restrictions', 'return', 'returning', 'reverse', 'right', 'round', 'route', 'run', 'runs', 's', 'sa', 'salt', 'sam', 'same', 'san', 'saturday', 'saturdays', 'say', 'sb', 'scenario', 'schedule', 'scheduled', 'schedules', 'sd', 'seat', 'seating', 'seats', 'seattle', 'second', 'see', 'september', 'serve', 'served', 'serves', 'service', 'serviced', 'services', 'serving', 'seven', 'seventeen', 'seventeenth', 'seventh', 'sfo', 'shortest', 'should', 'show', 'single', 'six', 'sixteen', 'sixteenth', 'sixth', 'smallest', 'snack', 'snacks', 'so', 'some', 'somebody', 'sometime', 'soon', 'sorry', 'sort', 'sounds', 'southwest', 'spend', 'st.', 'stand', 'stands', 'stapleton', 'start', 'starting', 'staying', 'still', 'stop', 'stopover', 'stopovers', 'stopping', 'stops', 'straight', 'such', 'summer', 'sunday', 'sundays', 'supper', 'sure', 'symbols', 'tacoma', 'take', 'takeoff', 'takeoffs', 'takes', 'taking', 'tampa', 'taxi', 'tell', 'ten', 'tennessee', 'tenth', 'texas', 'than', 'thank', 'thanks', 'that', 'the', 'their', 'them', 'then', 'there', 'thereafter', 'these', 'they', 'thing', 'third', 'thirteenth', 'thirtieth', 'thirty', 'this', 'those', 'three', 'thrift', 'through', 'thursday', 'thursdays', 'ticket', 'tickets', 'time', 'times', 'to', 'today', 'tomorrow', 'tonight', 'too', 'toronto', 'total', 'toward', 'tower', 'town', 'tpa', 'train', 'trans', 'transcontinental', 'transport', 'transportation', 'travel', 'traveling', 'travels', 'trip', 'trips', 'try', 'trying', 'tuesday', 'tuesdays', 'turboprop', 'twa', 'twelfth', 'twelve', 'twentieth', 'twenty', 'two', 'type', 'types', 'ua', 'under', 'united', 'up', 'us', 'usa', 'use', 'used', 'uses', 'using', 'utah', 'various', 'vegas', 'very', 'via', 'vicinity', 'visit', 'want', 'wanted', 'wants', 'washington', 'way', 'we', 'wednesday', 'wednesdays', 'week', 'weekday', 'weekdays', 'well', 'west', 'westchester', 'what', 'when', 'where', 'whether', 'which', 'while', 'who', 'will', 'wish', 'with', 'within', 'without', 'wn', 'working', 'world', 'worth', 'would', 'y', 'year', 'yes', 'yn', 'york', 'you', 'your', 'yx', 'yyz', 'zone'])\n",
      "slot_ids.keys():\n",
      " dict_keys(['B-aircraft_code', 'B-airline_code', 'B-airline_name', 'B-airport_code', 'B-airport_name', 'B-arrive_date.date_relative', 'B-arrive_date.day_name', 'B-arrive_date.day_number', 'B-arrive_date.month_name', 'B-arrive_date.today_relative', 'B-arrive_time.end_time', 'B-arrive_time.period_mod', 'B-arrive_time.period_of_day', 'B-arrive_time.start_time', 'B-arrive_time.time', 'B-arrive_time.time_relative', 'B-booking_class', 'B-city_name', 'B-class_type', 'B-compartment', 'B-connect', 'B-cost_relative', 'B-day_name', 'B-day_number', 'B-days_code', 'B-depart_date.date_relative', 'B-depart_date.day_name', 'B-depart_date.day_number', 'B-depart_date.month_name', 'B-depart_date.today_relative', 'B-depart_date.year', 'B-depart_time.end_time', 'B-depart_time.period_mod', 'B-depart_time.period_of_day', 'B-depart_time.start_time', 'B-depart_time.time', 'B-depart_time.time_relative', 'B-economy', 'B-fare_amount', 'B-fare_basis_code', 'B-flight', 'B-flight_days', 'B-flight_mod', 'B-flight_number', 'B-flight_stop', 'B-flight_time', 'B-fromloc.airport_code', 'B-fromloc.airport_name', 'B-fromloc.city_name', 'B-fromloc.state_code', 'B-fromloc.state_name', 'B-meal', 'B-meal_code', 'B-meal_description', 'B-mod', 'B-month_name', 'B-or', 'B-period_of_day', 'B-restriction_code', 'B-return_date.date_relative', 'B-return_date.day_name', 'B-return_date.day_number', 'B-return_date.month_name', 'B-return_date.today_relative', 'B-return_time.period_mod', 'B-return_time.period_of_day', 'B-round_trip', 'B-state_code', 'B-state_name', 'B-stoploc.airport_code', 'B-stoploc.airport_name', 'B-stoploc.city_name', 'B-stoploc.state_code', 'B-time', 'B-time_relative', 'B-today_relative', 'B-toloc.airport_code', 'B-toloc.airport_name', 'B-toloc.city_name', 'B-toloc.country_name', 'B-toloc.state_code', 'B-toloc.state_name', 'B-transport_type', 'I-airline_name', 'I-airport_name', 'I-arrive_date.day_number', 'I-arrive_time.end_time', 'I-arrive_time.period_of_day', 'I-arrive_time.start_time', 'I-arrive_time.time', 'I-arrive_time.time_relative', 'I-city_name', 'I-class_type', 'I-cost_relative', 'I-depart_date.day_name', 'I-depart_date.day_number', 'I-depart_date.today_relative', 'I-depart_time.end_time', 'I-depart_time.period_of_day', 'I-depart_time.start_time', 'I-depart_time.time', 'I-depart_time.time_relative', 'I-economy', 'I-fare_amount', 'I-fare_basis_code', 'I-flight_mod', 'I-flight_number', 'I-flight_stop', 'I-flight_time', 'I-fromloc.airport_name', 'I-fromloc.city_name', 'I-fromloc.state_name', 'I-meal_code', 'I-meal_description', 'I-mod', 'I-restriction_code', 'I-return_date.date_relative', 'I-return_date.day_number', 'I-return_date.today_relative', 'I-round_trip', 'I-state_name', 'I-stoploc.city_name', 'I-time', 'I-today_relative', 'I-toloc.airport_name', 'I-toloc.city_name', 'I-toloc.state_name', 'I-transport_type', 'O'])\n",
      "intent_ids.keys():\n",
      " dict_keys(['abbreviation', 'aircraft', 'aircraft+flight+flight_no', 'airfare', 'airfare+flight', 'airfare+flight_time', 'airline', 'airline+flight_no', 'airport', 'capacity', 'cheapest', 'city', 'day_name', 'distance', 'flight', 'flight+airfare', 'flight+airline', 'flight_no', 'flight_no+airline', 'flight_time', 'ground_fare', 'ground_service', 'ground_service+ground_fare', 'meal', 'quantity', 'restriction'])\n"
     ]
    }
   ],
   "source": [
    "print_dict_first_sample(dict1)"
   ]
  },
  {
   "cell_type": "code",
   "execution_count": 9,
   "metadata": {},
   "outputs": [
    {
     "name": "stdout",
     "output_type": "stream",
     "text": [
      "Done  loading:  data/atis-dataset/atis.test.pkl\n",
      "      samples:  893\n",
      "   vocab_size:  943\n",
      "   slot count:  129\n",
      " intent count:   26\n"
     ]
    }
   ],
   "source": [
    "test_ds, dict2  = load_ds(os.path.join(DATA_DIR, 'atis.test.pkl'))"
   ]
  },
  {
   "cell_type": "code",
   "execution_count": 10,
   "metadata": {},
   "outputs": [
    {
     "name": "stdout",
     "output_type": "stream",
     "text": [
      "slot_labels[0]:\n",
      " [128 128 128 128 128 128 128 128 128  48 128  78 125 128 128 128 128 128\n",
      "  71 121 128]\n",
      "query[0]:\n",
      " [178 479 932 545 851 423 180 428 444 294 851 527 897 826 573 180 797 482\n",
      " 789 564 179]\n",
      "intent_labels[0]:\n",
      " [14]\n"
     ]
    }
   ],
   "source": [
    "print_dict_first_sample(test_ds)"
   ]
  },
  {
   "cell_type": "code",
   "execution_count": 11,
   "metadata": {},
   "outputs": [
    {
     "name": "stdout",
     "output_type": "stream",
     "text": [
      "token_ids.keys():\n",
      " dict_keys([\"'d\", \"'hare\", \"'ll\", \"'m\", \"'re\", \"'s\", \"'t\", \"'ve\", '0900', '1', '10', '100', '1000', '1017', '1020', '1024', '1026', '1030', '1039', '1045', '1055', '1059', '106', '1083', '11', '110', '1100', '1110', '1115', '1130', '1133', '1145', '1158', '12', '1200', '1201', '1205', '1207', '1209', '1220', '1222', '1230', '124', '1245', '1288', '1291', '130', '1300', '137338', '139', '150', '1500', '1505', '1600', '163', '1700', '1765', '1800', '1850', '19', '1940', '1991', '1992', '1993', '1994', '2', '20', '200', '201', '21', '210', '2100', '212', '2134', '2153', '217', '225', '229', '230', '257', '269', '270', '271', '279', '281', '296', '297', '3', '300', '305', '311', '315', '320', '323', '324', '329', '3357', '343', '345', '352', '3724', '382', '4', '400', '402', '405', '415', '416', '417', '419', '420', '428', '43', '430', '4400', '445', '459', '466', '468', '486', '497766', '5', '500', '505', '515', '530', '539', '55', '555', '57', '6', '608', '615', '630', '639', '645', '650', '665', '673', '7', '705', '71', '718', '720', '723', '727', '72s', '730', '733', '734', '737', '73s', '746', '747', '755', '757', '767', '771', '8', '80', '810', '811', '813', '815', '819', '82', '823', '825', '838', '842', '845', '852', '9', '928', '932', '934', '950', '98', 'BOS', 'EOS', 'a', 'aa', 'abbreviation', 'abbreviations', 'able', 'about', 'ac', 'across', 'actually', 'advertises', 'after', 'afternoon', 'afternoons', 'afterwards', 'again', 'air', 'aircraft', 'airfare', 'airfares', 'airline', 'airlines', 'airplane', 'airplanes', 'airport', 'airports', 'al', 'alaska', 'all', 'along', 'also', 'am', 'america', 'american', 'amount', 'an', 'and', 'angeles', 'another', 'any', 'anything', 'anywhere', 'ap', 'ap57', 'ap58', 'ap68', 'ap80', 'approximately', 'april', 'are', 'area', 'arizona', 'around', 'arrange', 'arrangements', 'arrival', 'arrivals', 'arrive', 'arrives', 'arriving', 'as', 'at', 'atl', 'atlanta', 'august', 'available', 'b', 'back', 'baltimore', 'basis', 'bay', 'be', 'be1', 'beach', 'before', 'beginning', 'begins', 'being', 'belong', 'besides', 'between', 'bh', 'bn', 'bna', 'boeing', 'book', 'booking', 'boston', 'both', 'bound', 'breakfast', 'bring', 'bur', 'burbank', 'business', 'but', 'buy', 'bwi', 'by', 'c', 'california', 'called', 'calling', 'can', 'canada', 'canadian', 'capacities', 'capacity', 'car', 'carolina', 'carried', 'carries', 'cars', 'catch', 'charges', 'charlotte', 'cheap', 'cheapest', 'chicago', 'choices', 'cincinnati', 'cities', 'city', 'class', 'classes', 'cleveland', 'close', 'closest', 'co', 'coach', 'code', 'codes', 'colorado', 'columbus', 'combination', 'come', 'comes', 'coming', 'companies', 'concerning', 'connect', 'connecting', 'connection', 'connections', 'connects', 'continent', 'continental', 'continuing', 'cost', 'costs', 'could', 'county', 'cover', 'cp', 'currently', 'cvg', 'd', 'd10', 'd9s', 'daily', 'dallas', 'database', 'date', 'day', 'days', 'dc', 'dc10', 'dc9', 'dca', 'december', 'define', 'delta', 'denver', 'depart', 'departing', 'departs', 'departure', 'departures', 'describe', 'designate', 'destination', 'determine', 'detroit', 'dfw', 'dh8', 'diego', 'difference', 'different', 'dinner', 'dinnertime', 'direct', 'directly', 'discount', 'display', 'distance', 'dl', 'do', 'does', 'doesn', 'dollars', 'don', 'downtown', 'dtw', 'dulles', 'during', 'ea', 'each', 'earlier', 'earliest', 'early', 'eastern', 'economic', 'economy', 'eight', 'eighteenth', 'eighth', 'either', 'eleven', 'eleventh', 'else', 'enroute', 'equal', 'equipment', 'evening', 'ever', 'everywhere', 'ewr', 'exceeding', 'expensive', 'explain', 'express', 'eye', 'f', 'f28', 'far', 'fare', 'fares', 'february', 'ff', 'field', 'fifteen', 'fifteenth', 'fifth', 'final', 'find', 'fine', 'first', 'fit', 'flies', 'flight', 'flights', 'florida', 'fly', 'flying', 'fn', 'following', 'for', 'fort', 'four', 'fourteenth', 'fourth', 'francisco', 'friday', 'fridays', 'friends', 'from', 'general', 'georgia', 'get', 'gets', 'give', 'go', 'goes', 'going', 'good', 'got', 'great', 'greatest', 'ground', 'grounds', 'guardia', 'h', 'hartfield', 'has', 'have', 'having', 'heading', 'hello', 'help', 'here', 'hi', 'highest', 'hold', 'home', 'hopefully', 'hou', 'hours', 'houston', 'how', 'hp', 'i', 'iah', 'if', 'in', 'include', 'included', 'includes', 'including', 'india', 'indiana', 'indianapolis', 'inexpensive', 'inform', 'information', 'instead', 'intercontinental', 'interested', 'international', 'into', 'is', 'it', 'itinerary', 'j31', 'january', 'jersey', 'jet', 'jfk', 'jose', 'july', 'june', 'just', 'k', 'kansas', 'kennedy', 'kind', 'kindly', 'kinds', 'know', 'kw', 'l10', 'l1011', 'la', 'lake', 'land', 'landing', 'landings', 'lands', 'largest', 'las', 'last', 'lastest', 'late', 'later', 'latest', 'lax', 'laying', 'layover', 'least', 'leave', 'leaves', 'leaving', 'less', 'lester', 'let', 'level', 'lga', 'like', 'limo', 'limousine', 'limousines', 'list', 'listed', 'listing', 'listings', 'live', 'lives', 'local', 'locate', 'located', 'logan', 'long', 'longest', 'look', 'looking', 'los', 'louis', 'love', 'lowest', 'ls', 'lufthansa', 'lunch', 'm', 'm80', 'make', 'makes', 'making', 'many', 'march', 'maximum', 'may', 'mci', 'mco', 'me', 'meal', 'meals', 'mealtime', 'mean', 'meaning', 'memphis', 'mia', 'miami', 'michigan', 'midnight', 'midway', 'midwest', 'miles', 'milwaukee', 'minimum', 'minneapolis', 'minnesota', 'missouri', 'mitchell', 'monday', 'mondays', 'month', 'montreal', 'more', 'morning', 'mornings', 'most', 'much', 'must', 'my', 'name', 'names', 'nashville', 'nationair', 'near', 'need', 'nevada', 'new', 'newark', 'next', 'night', 'nights', 'nighttime', 'nineteenth', 'ninth', 'no', 'non', 'nonstop', 'nonstops', 'noon', 'noontime', 'north', 'northwest', 'not', 'november', 'now', 'number', 'numbers', 'nw', 'o', \"o'clock\", 'oak', 'oakland', 'october', 'of', 'off', 'offer', 'offered', 'offers', 'oh', 'ohio', 'okay', 'on', 'once', 'one', 'only', 'ontario', 'operating', 'operation', 'options', 'or', 'ord', 'order', 'originate', 'originating', 'orlando', 'other', 'out', 'over', 'overnight', 'passengers', 'paul', 'pearson', 'pennsylvania', 'people', 'petersburg', 'philadelphia', 'philly', 'phl', 'phoenix', 'pittsburgh', 'place', 'plan', 'plane', 'planes', 'planning', 'please', 'pm', 'possible', 'prefer', 'preferably', 'price', 'priced', 'prices', 'prior', 'proper', 'provide', 'provided', 'provides', 'put', 'q', 'qo', 'qualify', 'quebec', 'question', 'qw', 'qx', 'rate', 'rates', 'reaches', 'reaching', 'red', 'regarding', 'rent', 'rental', 'rentals', 'repeat', 'repeating', 'represented', 'requesting', 'reservation', 'reservations', 'restriction', 'restrictions', 'return', 'returning', 'reverse', 'right', 'round', 'route', 'run', 'runs', 's', 'sa', 'salt', 'sam', 'same', 'san', 'saturday', 'saturdays', 'say', 'sb', 'scenario', 'schedule', 'scheduled', 'schedules', 'sd', 'seat', 'seating', 'seats', 'seattle', 'second', 'see', 'september', 'serve', 'served', 'serves', 'service', 'serviced', 'services', 'serving', 'seven', 'seventeen', 'seventeenth', 'seventh', 'sfo', 'shortest', 'should', 'show', 'single', 'six', 'sixteen', 'sixteenth', 'sixth', 'smallest', 'snack', 'snacks', 'so', 'some', 'somebody', 'sometime', 'soon', 'sorry', 'sort', 'sounds', 'southwest', 'spend', 'st.', 'stand', 'stands', 'stapleton', 'start', 'starting', 'staying', 'still', 'stop', 'stopover', 'stopovers', 'stopping', 'stops', 'straight', 'such', 'summer', 'sunday', 'sundays', 'supper', 'sure', 'symbols', 'tacoma', 'take', 'takeoff', 'takeoffs', 'takes', 'taking', 'tampa', 'taxi', 'tell', 'ten', 'tennessee', 'tenth', 'texas', 'than', 'thank', 'thanks', 'that', 'the', 'their', 'them', 'then', 'there', 'thereafter', 'these', 'they', 'thing', 'third', 'thirteenth', 'thirtieth', 'thirty', 'this', 'those', 'three', 'thrift', 'through', 'thursday', 'thursdays', 'ticket', 'tickets', 'time', 'times', 'to', 'today', 'tomorrow', 'tonight', 'too', 'toronto', 'total', 'toward', 'tower', 'town', 'tpa', 'train', 'trans', 'transcontinental', 'transport', 'transportation', 'travel', 'traveling', 'travels', 'trip', 'trips', 'try', 'trying', 'tuesday', 'tuesdays', 'turboprop', 'twa', 'twelfth', 'twelve', 'twentieth', 'twenty', 'two', 'type', 'types', 'ua', 'under', 'united', 'up', 'us', 'usa', 'use', 'used', 'uses', 'using', 'utah', 'various', 'vegas', 'very', 'via', 'vicinity', 'visit', 'want', 'wanted', 'wants', 'washington', 'way', 'we', 'wednesday', 'wednesdays', 'week', 'weekday', 'weekdays', 'well', 'west', 'westchester', 'what', 'when', 'where', 'whether', 'which', 'while', 'who', 'will', 'wish', 'with', 'within', 'without', 'wn', 'working', 'world', 'worth', 'would', 'y', 'year', 'yes', 'yn', 'york', 'you', 'your', 'yx', 'yyz', 'zone'])\n",
      "slot_ids.keys():\n",
      " dict_keys(['B-aircraft_code', 'B-airline_code', 'B-airline_name', 'B-airport_code', 'B-airport_name', 'B-arrive_date.date_relative', 'B-arrive_date.day_name', 'B-arrive_date.day_number', 'B-arrive_date.month_name', 'B-arrive_date.today_relative', 'B-arrive_time.end_time', 'B-arrive_time.period_mod', 'B-arrive_time.period_of_day', 'B-arrive_time.start_time', 'B-arrive_time.time', 'B-arrive_time.time_relative', 'B-booking_class', 'B-city_name', 'B-class_type', 'B-compartment', 'B-connect', 'B-cost_relative', 'B-day_name', 'B-day_number', 'B-days_code', 'B-depart_date.date_relative', 'B-depart_date.day_name', 'B-depart_date.day_number', 'B-depart_date.month_name', 'B-depart_date.today_relative', 'B-depart_date.year', 'B-depart_time.end_time', 'B-depart_time.period_mod', 'B-depart_time.period_of_day', 'B-depart_time.start_time', 'B-depart_time.time', 'B-depart_time.time_relative', 'B-economy', 'B-fare_amount', 'B-fare_basis_code', 'B-flight', 'B-flight_days', 'B-flight_mod', 'B-flight_number', 'B-flight_stop', 'B-flight_time', 'B-fromloc.airport_code', 'B-fromloc.airport_name', 'B-fromloc.city_name', 'B-fromloc.state_code', 'B-fromloc.state_name', 'B-meal', 'B-meal_code', 'B-meal_description', 'B-mod', 'B-month_name', 'B-or', 'B-period_of_day', 'B-restriction_code', 'B-return_date.date_relative', 'B-return_date.day_name', 'B-return_date.day_number', 'B-return_date.month_name', 'B-return_date.today_relative', 'B-return_time.period_mod', 'B-return_time.period_of_day', 'B-round_trip', 'B-state_code', 'B-state_name', 'B-stoploc.airport_code', 'B-stoploc.airport_name', 'B-stoploc.city_name', 'B-stoploc.state_code', 'B-time', 'B-time_relative', 'B-today_relative', 'B-toloc.airport_code', 'B-toloc.airport_name', 'B-toloc.city_name', 'B-toloc.country_name', 'B-toloc.state_code', 'B-toloc.state_name', 'B-transport_type', 'I-airline_name', 'I-airport_name', 'I-arrive_date.day_number', 'I-arrive_time.end_time', 'I-arrive_time.period_of_day', 'I-arrive_time.start_time', 'I-arrive_time.time', 'I-arrive_time.time_relative', 'I-city_name', 'I-class_type', 'I-cost_relative', 'I-depart_date.day_name', 'I-depart_date.day_number', 'I-depart_date.today_relative', 'I-depart_time.end_time', 'I-depart_time.period_of_day', 'I-depart_time.start_time', 'I-depart_time.time', 'I-depart_time.time_relative', 'I-economy', 'I-fare_amount', 'I-fare_basis_code', 'I-flight_mod', 'I-flight_number', 'I-flight_stop', 'I-flight_time', 'I-fromloc.airport_name', 'I-fromloc.city_name', 'I-fromloc.state_name', 'I-meal_code', 'I-meal_description', 'I-mod', 'I-restriction_code', 'I-return_date.date_relative', 'I-return_date.day_number', 'I-return_date.today_relative', 'I-round_trip', 'I-state_name', 'I-stoploc.city_name', 'I-time', 'I-today_relative', 'I-toloc.airport_name', 'I-toloc.city_name', 'I-toloc.state_name', 'I-transport_type', 'O'])\n",
      "intent_ids.keys():\n",
      " dict_keys(['abbreviation', 'aircraft', 'aircraft+flight+flight_no', 'airfare', 'airfare+flight', 'airfare+flight_time', 'airline', 'airline+flight_no', 'airport', 'capacity', 'cheapest', 'city', 'day_name', 'distance', 'flight', 'flight+airfare', 'flight+airline', 'flight_no', 'flight_no+airline', 'flight_time', 'ground_fare', 'ground_service', 'ground_service+ground_fare', 'meal', 'quantity', 'restriction'])\n"
     ]
    }
   ],
   "source": [
    "print_dict_first_sample(dict2)"
   ]
  },
  {
   "cell_type": "markdown",
   "metadata": {
    "_uuid": "d6b5ee8accdd6c0a0c15ac13f7c0113974da86ef",
    "collapsed": true
   },
   "source": [
    "# Show first few samples"
   ]
  },
  {
   "cell_type": "code",
   "execution_count": 12,
   "metadata": {
    "_uuid": "9e9c5e179960c912d587454d88bf5a434f0045b4"
   },
   "outputs": [],
   "source": [
    "# Get each dict within dict1\n",
    "t2i, s2i, in2i = map(dict1.get, ['token_ids', 'slot_ids','intent_ids'])\n",
    "# Swap key and value\n",
    "i2t, i2s, i2in = map(lambda d: {d[k]:k for k in d.keys()}, [t2i,s2i,in2i])"
   ]
  },
  {
   "cell_type": "code",
   "execution_count": 13,
   "metadata": {},
   "outputs": [
    {
     "name": "stdout",
     "output_type": "stream",
     "text": [
      "   0:         flight: BOS i want to fly from boston at 838 am and arrive in denver at 1110 in the morning EOS\n",
      "                              BOS                                        O\n",
      "                                i                                        O\n",
      "                             want                                        O\n",
      "                               to                                        O\n",
      "                              fly                                        O\n",
      "                             from                                        O\n",
      "                           boston                      B-fromloc.city_name\n",
      "                               at                                        O\n",
      "                              838                       B-depart_time.time\n",
      "                               am                       I-depart_time.time\n",
      "                              and                                        O\n",
      "                           arrive                                        O\n",
      "                               in                                        O\n",
      "                           denver                        B-toloc.city_name\n",
      "                               at                                        O\n",
      "                             1110                       B-arrive_time.time\n",
      "                               in                                        O\n",
      "                              the                                        O\n",
      "                          morning              B-arrive_time.period_of_day\n",
      "                              EOS                                        O\n",
      "**************************************************************************\n",
      "   1:         flight: BOS what flights are available from pittsburgh to baltimore on thursday morning EOS\n",
      "                              BOS                                        O\n",
      "                             what                                        O\n",
      "                          flights                                        O\n",
      "                              are                                        O\n",
      "                        available                                        O\n",
      "                             from                                        O\n",
      "                       pittsburgh                      B-fromloc.city_name\n",
      "                               to                                        O\n",
      "                        baltimore                        B-toloc.city_name\n",
      "                               on                                        O\n",
      "                         thursday                   B-depart_date.day_name\n",
      "                          morning              B-depart_time.period_of_day\n",
      "                              EOS                                        O\n",
      "**************************************************************************\n",
      "   2:    flight_time: BOS what is the arrival time in san francisco for the 755 am flight leaving washington EOS\n",
      "                              BOS                                        O\n",
      "                             what                                        O\n",
      "                               is                                        O\n",
      "                              the                                        O\n",
      "                          arrival                            B-flight_time\n",
      "                             time                            I-flight_time\n",
      "                               in                                        O\n",
      "                              san                      B-fromloc.city_name\n",
      "                        francisco                      I-fromloc.city_name\n",
      "                              for                                        O\n",
      "                              the                                        O\n",
      "                              755                       B-depart_time.time\n",
      "                               am                       I-depart_time.time\n",
      "                           flight                                        O\n",
      "                          leaving                                        O\n",
      "                       washington                      B-fromloc.city_name\n",
      "                              EOS                                        O\n",
      "**************************************************************************\n",
      "   3:        airfare: BOS cheapest airfare from tacoma to orlando EOS\n",
      "                              BOS                                        O\n",
      "                         cheapest                          B-cost_relative\n",
      "                          airfare                                        O\n",
      "                             from                                        O\n",
      "                           tacoma                      B-fromloc.city_name\n",
      "                               to                                        O\n",
      "                          orlando                        B-toloc.city_name\n",
      "                              EOS                                        O\n",
      "**************************************************************************\n",
      "   4:        airfare: BOS round trip fares from pittsburgh to philadelphia under 1000 dollars EOS\n",
      "                              BOS                                        O\n",
      "                            round                             B-round_trip\n",
      "                             trip                             I-round_trip\n",
      "                            fares                                        O\n",
      "                             from                                        O\n",
      "                       pittsburgh                      B-fromloc.city_name\n",
      "                               to                                        O\n",
      "                     philadelphia                        B-toloc.city_name\n",
      "                            under                          B-cost_relative\n",
      "                             1000                            B-fare_amount\n",
      "                          dollars                            I-fare_amount\n",
      "                              EOS                                        O\n",
      "**************************************************************************\n"
     ]
    }
   ],
   "source": [
    "query, slots, intent =  map(train_ds.get, ['query', 'slot_labels', 'intent_labels'])\n",
    "\n",
    "for i in range(5):\n",
    "    print('{:4d}:{:>15}: {}'.format(i, i2in[intent[i][0]],\n",
    "                                    ' '.join(map(i2t.get, query[i]))))\n",
    "    for j in range(len(query[i])):\n",
    "        print('{:>33} {:>40}'.format(i2t[query[i][j]],\n",
    "                                     i2s[slots[i][j]]  ))\n",
    "    print('*'*74)"
   ]
  },
  {
   "cell_type": "code",
   "execution_count": null,
   "metadata": {
    "_uuid": "9e0d95bad4cdcf0495f4d48d15ccf7bb3a37aa0a"
   },
   "outputs": [],
   "source": []
  }
 ],
 "metadata": {
  "kernelspec": {
   "display_name": "Python 3",
   "language": "python",
   "name": "python3"
  },
  "language_info": {
   "codemirror_mode": {
    "name": "ipython",
    "version": 3
   },
   "file_extension": ".py",
   "mimetype": "text/x-python",
   "name": "python",
   "nbconvert_exporter": "python",
   "pygments_lexer": "ipython3",
   "version": "3.6.8"
  }
 },
 "nbformat": 4,
 "nbformat_minor": 1
}
